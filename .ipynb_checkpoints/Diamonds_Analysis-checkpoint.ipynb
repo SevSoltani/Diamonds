{
 "cells": [
  {
   "cell_type": "code",
   "execution_count": 204,
   "metadata": {},
   "outputs": [],
   "source": [
    "import pandas as pd\n",
    "import matplotlib.pyplot as plt\n",
    "import numpy as np\n",
    "from scipy import stats\n",
    "from pandas.plotting import scatter_matrix\n",
    "import seaborn as sns"
   ]
  },
  {
   "cell_type": "code",
   "execution_count": 205,
   "metadata": {},
   "outputs": [
    {
     "name": "stdout",
     "output_type": "stream",
     "text": [
      "   carat      cut color clarity  depth  table  price     x     y     z\n",
      "1   0.23    Ideal     E     SI2   61.5   55.0    326  3.95  3.98  2.43\n",
      "2   0.21  Premium     E     SI1   59.8   61.0    326  3.89  3.84  2.31\n",
      "3   0.23     Good     E     VS1   56.9   65.0    327  4.05  4.07  2.31\n",
      "4   0.29  Premium     I     VS2   62.4   58.0    334  4.20  4.23  2.63\n",
      "5   0.31     Good     J     SI2   63.3   58.0    335  4.34  4.35  2.75\n"
     ]
    }
   ],
   "source": [
    "df = pd.read_csv('diamonds.csv', index_col = [0])\n",
    "print(df.head())"
   ]
  },
  {
   "cell_type": "code",
   "execution_count": 206,
   "metadata": {},
   "outputs": [],
   "source": [
    "df = df.reset_index(drop = True) # back to zero indexing"
   ]
  },
  {
   "cell_type": "code",
   "execution_count": 207,
   "metadata": {},
   "outputs": [
    {
     "data": {
      "text/plain": [
       "\"cut_dict = {'Fair':0.2, 'Good':0.4, 'Very Good':0.6, 'Premium':0.8, 'Ideal':1.0}\\ncolor_dict = {'J':0.14285, 'I':0.28571, 'H':0.42857, 'G':0.57142, 'F':0.71428,\\n              'E':0.85714, 'D': 1.0}\\nclarity_dict = {'I1':0.125, 'SI2':0.25, 'SI1':0.375, 'VS2':0.5, 'VS1': 0.625,\\n                'VVS2':0.75, 'VVS1':0.875, 'IF':1.0}\""
      ]
     },
     "execution_count": 207,
     "metadata": {},
     "output_type": "execute_result"
    }
   ],
   "source": [
    "'''cut_dict = {'Fair':0.2, 'Good':0.4, 'Very Good':0.6, 'Premium':0.8, 'Ideal':1.0}\n",
    "color_dict = {'J':0.14285, 'I':0.28571, 'H':0.42857, 'G':0.57142, 'F':0.71428,\n",
    "              'E':0.85714, 'D': 1.0}\n",
    "clarity_dict = {'I1':0.125, 'SI2':0.25, 'SI1':0.375, 'VS2':0.5, 'VS1': 0.625,\n",
    "                'VVS2':0.75, 'VVS1':0.875, 'IF':1.0}'''\n"
   ]
  },
  {
   "cell_type": "code",
   "execution_count": 208,
   "metadata": {},
   "outputs": [
    {
     "data": {
      "image/png": "[encoded data removed]",
      "text/plain": [
       "<Figure size 432x288 with 3 Axes>"
      ]
     },
     "metadata": {
      "needs_background": "light"
     },
     "output_type": "display_data"
    }
   ],
   "source": [
    "fig, ax = plt.subplots(1, 3)\n",
    "fig.tight_layout()\n",
    "plt.subplot(1,3,1)\n",
    "df['color'].value_counts().plot(kind='bar');\n",
    "plt.subplot(1,3,2)\n",
    "df['cut'].value_counts().plot(kind='bar');\n",
    "plt.subplot(1,3,3)\n",
    "df['clarity'].value_counts().plot(kind='bar');"
   ]
  },
  {
   "cell_type": "code",
   "execution_count": 209,
   "metadata": {},
   "outputs": [],
   "source": [
    "totals = df.groupby(['clarity', 'color']).count()"
   ]
  },
  {
   "cell_type": "code",
   "execution_count": 210,
   "metadata": {},
   "outputs": [
    {
     "name": "stdout",
     "output_type": "stream",
     "text": [
      "Index(['carat', 'cut', 'depth', 'table', 'price', 'x', 'y', 'z'], dtype='object')\n"
     ]
    }
   ],
   "source": [
    "#print(totals)\n",
    "totals.head()\n",
    "#print(totals['carat'].sum())\n",
    "#print(totals.get_group('I1'))\n",
    "print(totals.keys())\n",
    "carat_df = totals['carat']\n",
    "#carat_df.head()\n"
   ]
  },
  {
   "cell_type": "code",
   "execution_count": 211,
   "metadata": {},
   "outputs": [
    {
     "name": "stdout",
     "output_type": "stream",
     "text": [
      "col_0    count\n",
      "clarity       \n",
      "I1         741\n",
      "IF        1790\n",
      "SI1      13065\n",
      "SI2       9194\n",
      "VS1       8171\n",
      "VS2      12258\n",
      "VVS1      3655\n",
      "VVS2      5066\n",
      "  quality  count\n",
      "0      I1    741\n",
      "1     SI2   9194\n",
      "2     SI1  13065\n",
      "3     VS2  12258\n",
      "4     VS1   8171\n",
      "5    VVS2   5066\n",
      "6    VVS1   3655\n",
      "7      IF   1790\n"
     ]
    },
    {
     "data": {
      "text/plain": [
       "'carat_table2 = pd.crosstab(index=new_df[\"quality\"], columns=new_df[\"count\"])\\nprint(carat_table2)\\ncarat_table2.plot(kind=\"bar\", \\n                 figsize=(8,8),\\n                 stacked=True)'"
      ]
     },
     "execution_count": 211,
     "metadata": {},
     "output_type": "execute_result"
    },
    {
     "data": {
      "image/png": "[encoded data removed]",
      "text/plain": [
       "<Figure size 576x576 with 1 Axes>"
      ]
     },
     "metadata": {
      "needs_background": "light"
     },
     "output_type": "display_data"
    }
   ],
   "source": [
    "carat_table = pd.crosstab(index=df[\"clarity\"], columns=\"count\")\n",
    "print(carat_table)\n",
    "qual_order_x = ['I1', 'SI2', 'SI1', 'VS2', 'VS1','VVS2', 'VVS1', 'IF']\n",
    "qual_counts = []\n",
    "for each in qual_order_x:\n",
    "    count_val = carat_table['count'][each]\n",
    "    qual_counts.append(count_val)\n",
    "#plt.bar(qual_order_x, qual_counts, stacked = True)\n",
    "#carat_table.plot(kind=\"bar\", figsize=(8,8))\n",
    "#new_df = pd.DataFrame(qual_order_x, qual_counts)\n",
    "#new_df.head()\n",
    "data_tuples = list(zip(qual_order_x, qual_counts))\n",
    "new_df = pd.DataFrame(data_tuples, columns = ['quality', 'count'])\n",
    "print(new_df)\n",
    "new_df.plot(kind=\"bar\", figsize=(8,8), stacked=True)\n",
    "'''carat_table2 = pd.crosstab(index=new_df[\"quality\"], columns=new_df[\"count\"])\n",
    "print(carat_table2)\n",
    "carat_table2.plot(kind=\"bar\", \n",
    "                 figsize=(8,8),\n",
    "                 stacked=True)'''"
   ]
  },
  {
   "cell_type": "code",
   "execution_count": 212,
   "metadata": {},
   "outputs": [
    {
     "data": {
      "image/png": "[encoded data removed]",
      "text/plain": [
       "<Figure size 720x432 with 1 Axes>"
      ]
     },
     "metadata": {
      "needs_background": "light"
     },
     "output_type": "display_data"
    }
   ],
   "source": [
    "import seaborn as sns\n",
    "\n",
    "pal = sns.cubehelix_palette(7, start = 0, rot = -.7)\n",
    "sns.set_palette(pal, n_colors=7)\n",
    "\n",
    "title = 'Diamond Color Constituents for Each Class of Clarity'\n",
    "x_label = \"Clarity\"\n",
    "y_label = \"Total Count of Diamonds by Clarity\"\n",
    "\n",
    "\n",
    "\n",
    "carat_table = pd.crosstab(index = df[\"clarity\"], columns = df[\"color\"])\n",
    "ax = carat_table.plot(kind=\"bar\", figsize = (10,6), color = pal, stacked=True)\n",
    "ax.set_title(title, fontsize = 18)\n",
    "ax.set(xlabel = x_label, ylabel = y_label)\n",
    "plt.show()"
   ]
  },
  {
   "cell_type": "code",
   "execution_count": null,
   "metadata": {},
   "outputs": [],
   "source": []
  },
  {
   "cell_type": "code",
   "execution_count": null,
   "metadata": {},
   "outputs": [],
   "source": []
  },
  {
   "cell_type": "code",
   "execution_count": null,
   "metadata": {},
   "outputs": [],
   "source": []
  }
 ],
 "metadata": {
  "kernelspec": {
   "display_name": "Python 3",
   "language": "python",
   "name": "python3"
  },
  "language_info": {
   "codemirror_mode": {
    "name": "ipython",
    "version": 3
   },
   "file_extension": ".py",
   "mimetype": "text/x-python",
   "name": "python",
   "nbconvert_exporter": "python",
   "pygments_lexer": "ipython3",
   "version": "3.6.8"
  }
 },
 "nbformat": 4,
 "nbformat_minor": 2
}
