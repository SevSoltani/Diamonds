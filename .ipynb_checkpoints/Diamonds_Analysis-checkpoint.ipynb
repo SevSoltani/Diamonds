{
 "cells": [
  {
   "cell_type": "code",
   "execution_count": 116,
   "metadata": {},
   "outputs": [],
   "source": [
    "import pandas as pd\n",
    "import matplotlib.pyplot as plt\n",
    "import numpy as np\n",
    "from scipy import stats\n",
    "from pandas.plotting import scatter_matrix"
   ]
  },
  {
   "cell_type": "code",
   "execution_count": 117,
   "metadata": {},
   "outputs": [
    {
     "name": "stdout",
     "output_type": "stream",
     "text": [
      "   carat      cut color clarity  depth  table  price     x     y     z\n",
      "1   0.23    Ideal     E     SI2   61.5   55.0    326  3.95  3.98  2.43\n",
      "2   0.21  Premium     E     SI1   59.8   61.0    326  3.89  3.84  2.31\n",
      "3   0.23     Good     E     VS1   56.9   65.0    327  4.05  4.07  2.31\n",
      "4   0.29  Premium     I     VS2   62.4   58.0    334  4.20  4.23  2.63\n",
      "5   0.31     Good     J     SI2   63.3   58.0    335  4.34  4.35  2.75\n"
     ]
    }
   ],
   "source": [
    "df = pd.read_csv('diamonds.csv', index_col = [0])\n",
    "print(df.head())"
   ]
  },
  {
   "cell_type": "code",
   "execution_count": 118,
   "metadata": {},
   "outputs": [],
   "source": [
    "df = df.reset_index(drop = True) # back to zero indexing"
   ]
  },
  {
   "cell_type": "code",
   "execution_count": 82,
   "metadata": {},
   "outputs": [],
   "source": [
    "'''cut_dict = {'Fair':0.2, 'Good':0.4, 'Very Good':0.6, 'Premium':0.8, 'Ideal':1.0}\n",
    "color_dict = {'J':0.14285, 'I':0.28571, 'H':0.42857, 'G':0.57142, 'F':0.71428,\n",
    "              'E':0.85714, 'D': 1.0}\n",
    "clarity_dict = {'I1':0.125, 'SI2':0.25, 'SI1':0.375, 'VS2':0.5, 'VS1': 0.625,\n",
    "                'VVS2':0.75, 'VVS1':0.875, 'IF':1.0}'''\n"
   ]
  },
  {
   "cell_type": "code",
   "execution_count": 149,
   "metadata": {},
   "outputs": [
    {
     "data": {
      "image/png": "[encoded data removed]",
      "text/plain": [
       "<Figure size 432x288 with 3 Axes>"
      ]
     },
     "metadata": {
      "needs_background": "light"
     },
     "output_type": "display_data"
    }
   ],
   "source": [
    "fig, ax = plt.subplots(1, 3)\n",
    "fig.tight_layout()\n",
    "plt.subplot(1,3,1)\n",
    "df['color'].value_counts().plot(kind='bar');\n",
    "plt.subplot(1,3,2)\n",
    "df['cut'].value_counts().plot(kind='bar');\n",
    "plt.subplot(1,3,3)\n",
    "df['clarity'].value_counts().plot(kind='bar');"
   ]
  }
 ],
 "metadata": {
  "kernelspec": {
   "display_name": "Python 3",
   "language": "python",
   "name": "python3"
  },
  "language_info": {
   "codemirror_mode": {
    "name": "ipython",
    "version": 3
   },
   "file_extension": ".py",
   "mimetype": "text/x-python",
   "name": "python",
   "nbconvert_exporter": "python",
   "pygments_lexer": "ipython3",
   "version": "3.6.8"
  }
 },
 "nbformat": 4,
 "nbformat_minor": 2
}
